{
 "cells": [
  {
   "cell_type": "code",
   "execution_count": 1,
   "metadata": {},
   "outputs": [],
   "source": [
    "import numpy as np\n",
    "import math"
   ]
  },
  {
   "cell_type": "code",
   "execution_count": 2,
   "metadata": {},
   "outputs": [],
   "source": [
    "def log_prob(x, mu1, cov1, mu2, cov2, n1, n2):\n",
    "    diff1 = x - mu1\n",
    "    diff2 = x - mu2\n",
    "    exp_arg1 = - 0.5 * np.dot(diff1, np.linalg.solve(cov1, diff1))\n",
    "    exp_arg2 =  - 0.5 * np.dot(diff2, np.linalg.solve(cov2, diff2))\n",
    "    distr1 = n1 * math.pow((2 * np.pi), -len(mu1)/2) / np.sqrt(np.linalg.det(cov1)) * np.exp(exp_arg1)\n",
    "    distr2 = n2 * math.pow((2 * np.pi), -len(mu2)/2) / np.sqrt(np.linalg.det(cov2)) * np.exp(exp_arg2)\n",
    "    return np.log(distr1 + distr2)"
   ]
  },
  {
   "cell_type": "code",
   "execution_count": 3,
   "metadata": {},
   "outputs": [],
   "source": [
    "ndim = 1\n",
    "\n",
    "np.random.seed(42)\n",
    "# means1 = np.random.rand(ndim)\n",
    "# means2 = np.random.rand(ndim) * 10\n",
    "\n",
    "# n1 = np.random.rand(ndim)\n",
    "# n2 = np.random.rand(ndim)\n",
    "\n",
    "\n",
    "means1 = np.array([0.])\n",
    "means2 = np.array([20.])\n",
    "\n",
    "n1 = np.array([10.])\n",
    "n2 = np.array([10.])\n",
    "\n",
    "# cov1 = 0.5 - np.random.rand(ndim ** 2).reshape((ndim, ndim))\n",
    "# cov1 = np.triu(cov1)\n",
    "# cov1 += cov1.T - np.diag(cov1.diagonal())\n",
    "# cov1 = np.dot(cov1, cov1)\n",
    "\n",
    "# cov2 = 0.5 - np.random.rand(ndim ** 2).reshape((ndim, ndim))\n",
    "# cov2 = np.triu(cov2)\n",
    "# cov2 += cov2.T - np.diag(cov2.diagonal())\n",
    "# cov2 = np.dot(cov2, cov2)\n",
    "\n",
    "cov1 = np.array([[1.]])\n",
    "cov2 = np.array([[1.]])"
   ]
  },
  {
   "cell_type": "code",
   "execution_count": 4,
   "metadata": {},
   "outputs": [],
   "source": [
    "nwalkers = 1000\n",
    "p0 = np.random.rand(nwalkers, ndim)"
   ]
  },
  {
   "cell_type": "code",
   "execution_count": 61,
   "metadata": {},
   "outputs": [],
   "source": [
    "import emcee\n",
    "\n",
    "sampler = emcee.EnsembleSampler(nwalkers, ndim, log_prob, moves=emcee.moves.DESnookerMove(), args=[means1, cov1, means2, cov2, n1, n2])"
   ]
  },
  {
   "cell_type": "code",
   "execution_count": 62,
   "metadata": {},
   "outputs": [
    {
     "name": "stderr",
     "output_type": "stream",
     "text": [
      "/Users/ta_nyan/anaconda3/lib/python3.7/site-packages/ipykernel_launcher.py:8: RuntimeWarning: divide by zero encountered in log\n",
      "  \n"
     ]
    }
   ],
   "source": [
    "sampler.run_mcmc(p0, 3000);"
   ]
  },
  {
   "cell_type": "code",
   "execution_count": 63,
   "metadata": {},
   "outputs": [
    {
     "data": {
      "image/png": "[encoded data removed]",
      "text/plain": [
       "<Figure size 432x288 with 1 Axes>"
      ]
     },
     "metadata": {
      "needs_background": "light"
     },
     "output_type": "display_data"
    }
   ],
   "source": [
    "import matplotlib.pyplot as plt\n",
    "\n",
    "samples = sampler.get_chain(flat=True)\n",
    "plt.hist(samples[:, 0], 100, color=\"k\", histtype=\"step\")\n",
    "plt.xlabel(r\"$\\theta_1$\")\n",
    "plt.ylabel(r\"$p(\\theta_1)$\");\n",
    "plt.savefig(\"multimodal_sampled.png\")"
   ]
  },
  {
   "cell_type": "code",
   "execution_count": 64,
   "metadata": {},
   "outputs": [],
   "source": [
    "def real_distr(x, mu1, cov1, mu2, cov2, n1, n2):\n",
    "    diff1 = x - mu1\n",
    "    diff2 = x - mu2\n",
    "    exp_arg1 = - 0.5 * np.dot(diff1, np.linalg.solve(cov1, diff1))\n",
    "    exp_arg2 =  - 0.5 * np.dot(diff2, np.linalg.solve(cov2, diff2))\n",
    "    distr1 = n1 * math.pow((2 * np.pi), -len(mu1)/2) / np.sqrt(np.linalg.det(cov1)) * np.exp(exp_arg1)\n",
    "    distr2 = n2 * math.pow((2 * np.pi), -len(mu2)/2) / np.sqrt(np.linalg.det(cov2)) * np.exp(exp_arg2)\n",
    "    return distr1 + distr2"
   ]
  },
  {
   "cell_type": "code",
   "execution_count": 65,
   "metadata": {},
   "outputs": [
    {
     "data": {
      "image/png": "[encoded data removed]",
      "text/plain": [
       "<Figure size 432x288 with 1 Axes>"
      ]
     },
     "metadata": {
      "needs_background": "light"
     },
     "output_type": "display_data"
    }
   ],
   "source": [
    "x = np.linspace(-5, 25, 500)\n",
    "y = [real_distr(x_, means1, cov1, means2, cov2, n1, n2) for x_ in x]\n",
    "plt.plot(x, y)\n",
    "plt.savefig(\"mustimodal_real.png\")"
   ]
  },
  {
   "cell_type": "code",
   "execution_count": 57,
   "metadata": {},
   "outputs": [
    {
     "name": "stdout",
     "output_type": "stream",
     "text": [
      "Mean acceptance fraction: 0.945\n"
     ]
    }
   ],
   "source": [
    "print(\"Mean acceptance fraction: {0:.3f}\".format(np.mean(sampler.acceptance_fraction)))"
   ]
  },
  {
   "cell_type": "code",
   "execution_count": 58,
   "metadata": {},
   "outputs": [
    {
     "name": "stdout",
     "output_type": "stream",
     "text": [
      "Mean autocorrelation time: 1.145 steps\n"
     ]
    }
   ],
   "source": [
    "print(\n",
    "    \"Mean autocorrelation time: {0:.3f} steps\".format(\n",
    "        np.mean(sampler.get_autocorr_time())\n",
    "    )\n",
    ")"
   ]
  },
  {
   "cell_type": "code",
   "execution_count": null,
   "metadata": {},
   "outputs": [],
   "source": []
  }
 ],
 "metadata": {
  "@webio": {
   "lastCommId": null,
   "lastKernelId": null
  },
  "hide_input": false,
  "kernelspec": {
   "display_name": "Python 3",
   "language": "python",
   "name": "python3"
  },
  "language_info": {
   "codemirror_mode": {
    "name": "ipython",
    "version": 3
   },
   "file_extension": ".py",
   "mimetype": "text/x-python",
   "name": "python",
   "nbconvert_exporter": "python",
   "pygments_lexer": "ipython3",
   "version": "3.7.3"
  }
 },
 "nbformat": 4,
 "nbformat_minor": 2
}
